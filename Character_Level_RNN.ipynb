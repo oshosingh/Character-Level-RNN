{
 "cells": [
  {
   "cell_type": "markdown",
   "metadata": {
    "colab_type": "text",
    "id": "wweRAtzO8OPA"
   },
   "source": [
    "# Character-Level LSTM in PyTorch\n",
    "\n",
    "In this notebook, I'll construct a character-level LSTM with PyTorch. The network will train character by character on some text, then generate new text character by character. As an example, I will train on Anna Karenina. **This model will be able to generate new text based on the text from the book!**\n",
    "\n",
    "This network is based off of Andrej Karpathy's [post on RNNs](http://karpathy.github.io/2015/05/21/rnn-effectiveness/) and [implementation in Torch](https://github.com/karpathy/char-rnn). Below is the general architecture of the character-wise RNN.\n",
    "\n",
    "<img src=\"assets/charseq.jpeg\" width=\"500\">"
   ]
  },
  {
   "cell_type": "markdown",
   "metadata": {
    "colab_type": "text",
    "id": "Ec4-qSqE8OPH"
   },
   "source": [
    "First let's load in our required resources for data loading and model creation."
   ]
  },
  {
   "cell_type": "code",
   "execution_count": 0,
   "metadata": {
    "colab": {},
    "colab_type": "code",
    "id": "_KkwZpM48OPL"
   },
   "outputs": [],
   "source": [
    "import numpy as np\n",
    "import torch\n",
    "from torch import nn\n",
    "import torch.nn.functional as F"
   ]
  },
  {
   "cell_type": "markdown",
   "metadata": {
    "colab_type": "text",
    "id": "_TR8Rg3V8OPZ"
   },
   "source": [
    "## Load in Data\n",
    "\n",
    "Then, we'll load the Anna Karenina text file and convert it into integers for our network to use. "
   ]
  },
  {
   "cell_type": "code",
   "execution_count": 0,
   "metadata": {
    "colab": {},
    "colab_type": "code",
    "id": "9VbP0kjg8OPe"
   },
   "outputs": [],
   "source": [
    "# open text file and read in data as `text`\n",
    "with open('anna.txt', 'r') as f:\n",
    "    text = f.read()"
   ]
  },
  {
   "cell_type": "markdown",
   "metadata": {
    "colab_type": "text",
    "id": "ntVe-Xfm8OPq"
   },
   "source": [
    "Let's check out the first 100 characters, make sure everything is peachy. According to the [American Book Review](http://americanbookreview.org/100bestlines.asp), this is the 6th best first line of a book ever."
   ]
  },
  {
   "cell_type": "code",
   "execution_count": 0,
   "metadata": {
    "colab": {},
    "colab_type": "code",
    "id": "LfFkuQlz8OP9"
   },
   "outputs": [],
   "source": [
    "# encode the text and map each character to an integer and vice versa\n",
    "\n",
    "# we create two dictionaries:\n",
    "# 1. int2char, which maps integers to characters\n",
    "# 2. char2int, which maps characters to unique integers\n",
    "chars = tuple(set(text))\n",
    "int2char = dict(enumerate(chars))\n",
    "char2int = {ch: ii for ii, ch in int2char.items()}\n",
    "\n",
    "# encode the text\n",
    "encoded = np.array([char2int[ch] for ch in text])"
   ]
  },
  {
   "cell_type": "markdown",
   "metadata": {
    "colab_type": "text",
    "id": "0ncP-KVL8OQH"
   },
   "source": [
    "And we can see those same characters from above, encoded as integers."
   ]
  },
  {
   "cell_type": "markdown",
   "metadata": {
    "colab_type": "text",
    "id": "b5VAhHW78OQi"
   },
   "source": [
    "## Pre-processing the data\n",
    "\n",
    "As you can see in our char-RNN image above, our LSTM expects an input that is **one-hot encoded** meaning that each character is converted into an integer (via our created dictionary) and *then* converted into a column vector where only it's corresponding integer index will have the value of 1 and the rest of the vector will be filled with 0's. Since we're one-hot encoding the data, let's make a function to do that!\n"
   ]
  },
  {
   "cell_type": "code",
   "execution_count": 0,
   "metadata": {
    "colab": {},
    "colab_type": "code",
    "id": "gWTV9FN38OQn"
   },
   "outputs": [],
   "source": [
    "def one_hot_encode(arr, n_labels):\n",
    "    \n",
    "    # Initialize the the encoded array\n",
    "    one_hot = np.zeros((np.multiply(*arr.shape), n_labels), dtype=np.float32)\n",
    "    \n",
    "    # Fill the appropriate elements with ones\n",
    "    one_hot[np.arange(one_hot.shape[0]), arr.flatten()] = 1.\n",
    "    \n",
    "    # Finally reshape it to get back to the original array\n",
    "    one_hot = one_hot.reshape((*arr.shape, n_labels))\n",
    "    \n",
    "    return one_hot"
   ]
  },
  {
   "cell_type": "code",
   "execution_count": 0,
   "metadata": {
    "colab": {
     "base_uri": "https://localhost:8080/",
     "height": 72
    },
    "colab_type": "code",
    "id": "BNpyyP_X8OQz",
    "outputId": "865ba7df-3428-49fd-d658-47803eb3dff5"
   },
   "outputs": [
    {
     "name": "stdout",
     "output_type": "stream",
     "text": [
      "[[[0. 0. 0. 1. 0. 0. 0. 0.]\n",
      "  [0. 0. 0. 0. 0. 1. 0. 0.]\n",
      "  [0. 1. 0. 0. 0. 0. 0. 0.]]]\n"
     ]
    }
   ],
   "source": [
    "# check that the function works as expected\n",
    "test_seq = np.array([[3, 5, 1]])\n",
    "one_hot = one_hot_encode(test_seq, 8)\n",
    "\n",
    "print(one_hot)"
   ]
  },
  {
   "cell_type": "code",
   "execution_count": 0,
   "metadata": {
    "colab": {},
    "colab_type": "code",
    "id": "1hqbuKeF8ORF"
   },
   "outputs": [],
   "source": [
    "def get_batches(arr, batch_size, seq_length):\n",
    "    '''Create a generator that returns batches of size\n",
    "       batch_size x seq_length from arr.\n",
    "       \n",
    "       Arguments\n",
    "       ---------\n",
    "       arr: Array you want to make batches from\n",
    "       batch_size: Batch size, the number of sequences per batch\n",
    "       seq_length: Number of encoded chars in a sequence\n",
    "    '''\n",
    "    \n",
    "    batch_size_total = batch_size * seq_length\n",
    "    # total number of batches we can make\n",
    "    n_batches = len(arr)//batch_size_total\n",
    "    \n",
    "    # Keep only enough characters to make full batches\n",
    "    arr = arr[:n_batches * batch_size_total]\n",
    "    # Reshape into batch_size rows\n",
    "    arr = arr.reshape((batch_size, -1))\n",
    "    \n",
    "    # iterate through the array, one sequence at a time\n",
    "    for n in range(0, arr.shape[1], seq_length):\n",
    "        # The features\n",
    "        x = arr[:, n:n+seq_length]\n",
    "        # The targets, shifted by one\n",
    "        y = np.zeros_like(x)\n",
    "        try:\n",
    "            y[:, :-1], y[:, -1] = x[:, 1:], arr[:, n+seq_length]\n",
    "        except IndexError:\n",
    "            y[:, :-1], y[:, -1] = x[:, 1:], arr[:, 0]\n",
    "        yield x, y"
   ]
  },
  {
   "cell_type": "code",
   "execution_count": 0,
   "metadata": {
    "colab": {},
    "colab_type": "code",
    "id": "WnEO__US8ORR"
   },
   "outputs": [],
   "source": [
    "batches = get_batches(encoded, 8, 50)\n",
    "x, y = next(batches)"
   ]
  },
  {
   "cell_type": "markdown",
   "metadata": {
    "colab_type": "text",
    "id": "R69Flagh8ORr"
   },
   "source": [
    "---\n",
    "## Defining the network with PyTorch\n",
    "\n",
    "Below is where you'll define the network.\n",
    "\n",
    "<img src=\"assets/charRNN.png\" width=500px>\n",
    "\n",
    "Next, you'll use PyTorch to define the architecture of the network. We start by defining the layers and operations we want. Then, define a method for the forward pass. You've also been given a method for predicting characters."
   ]
  },
  {
   "cell_type": "markdown",
   "metadata": {
    "colab_type": "text",
    "id": "_NHncsbx8ORt"
   },
   "source": [
    "### Model Structure\n",
    "\n",
    "In `__init__` the suggested structure is as follows:\n",
    "* Create and store the necessary dictionaries (this has been done for you)\n",
    "* Define an LSTM layer that takes as params: an input size (the number of characters), a hidden layer size `n_hidden`, a number of layers `n_layers`, a dropout probability `drop_prob`, and a batch_first boolean (True, since we are batching)\n",
    "* Define a dropout layer with `dropout_prob`\n",
    "* Define a fully-connected layer with params: input size `n_hidden` and output size (the number of characters)\n",
    "* Finally, initialize the weights (again, this has been given)\n",
    "\n",
    "Note that some parameters have been named and given in the `__init__` function, and we use them and store them by doing something like `self.drop_prob = drop_prob`."
   ]
  },
  {
   "cell_type": "markdown",
   "metadata": {
    "colab_type": "text",
    "id": "i8Qz55dt8ORv"
   },
   "source": [
    "---\n",
    "### LSTM Inputs/Outputs\n",
    "\n",
    "You can create a basic [LSTM layer](https://pytorch.org/docs/stable/nn.html#lstm) as follows\n",
    "\n",
    "```python\n",
    "self.lstm = nn.LSTM(input_size, n_hidden, n_layers, \n",
    "                            dropout=drop_prob, batch_first=True)\n",
    "```\n",
    "\n",
    "where `input_size` is the number of characters this cell expects to see as sequential input, and `n_hidden` is the number of units in the hidden layers in the cell. And we can add dropout by adding a dropout parameter with a specified probability; this will automatically add dropout to the inputs or outputs. Finally, in the `forward` function, we can stack up the LSTM cells into layers using `.view`. With this, you pass in a list of cells and it will send the output of one cell into the next cell.\n",
    "\n",
    "We also need to create an initial hidden state of all zeros. This is done like so\n",
    "\n",
    "```python\n",
    "self.init_hidden()\n",
    "```"
   ]
  },
  {
   "cell_type": "code",
   "execution_count": 0,
   "metadata": {
    "colab": {
     "base_uri": "https://localhost:8080/",
     "height": 35
    },
    "colab_type": "code",
    "id": "wgPZ3ohl8ORx",
    "outputId": "1a3e25fb-1188-4f24-8d1a-e290ef7b8881"
   },
   "outputs": [
    {
     "name": "stdout",
     "output_type": "stream",
     "text": [
      "Training on GPU!\n"
     ]
    }
   ],
   "source": [
    "# check if GPU is available\n",
    "train_on_gpu = torch.cuda.is_available()\n",
    "if(train_on_gpu):\n",
    "    print('Training on GPU!')\n",
    "else: \n",
    "    print('No GPU available, training on CPU; consider making n_epochs very small.')"
   ]
  },
  {
   "cell_type": "code",
   "execution_count": 0,
   "metadata": {
    "colab": {},
    "colab_type": "code",
    "id": "kgQaNEQ_8OR6"
   },
   "outputs": [],
   "source": [
    "class CharRNN(nn.Module):\n",
    "    \n",
    "    def __init__(self, tokens, n_hidden=256, n_layers=2,\n",
    "                               drop_prob=0.5, lr=0.001):\n",
    "        super().__init__()\n",
    "        self.drop_prob = drop_prob\n",
    "        self.n_layers = n_layers\n",
    "        self.n_hidden = n_hidden\n",
    "        self.lr = lr\n",
    "        \n",
    "        # creating character dictionaries\n",
    "        self.chars = tokens\n",
    "        self.int2char = dict(enumerate(self.chars))\n",
    "        self.char2int = {ch: ii for ii, ch in self.int2char.items()}\n",
    "        \n",
    "        ## TODO: define the LSTM\n",
    "        self.lstm = nn.LSTM(len(self.chars), n_hidden, n_layers, \n",
    "                            dropout=drop_prob, batch_first=True)\n",
    "        \n",
    "        ## TODO: define a dropout layer\n",
    "        self.dropout = nn.Dropout(drop_prob)\n",
    "        \n",
    "        ## TODO: define the final, fully-connected output layer\n",
    "        self.fc = nn.Linear(n_hidden, len(self.chars))\n",
    "      \n",
    "    \n",
    "    def forward(self, x, hidden):\n",
    "        ''' Forward pass through the network. \n",
    "            These inputs are x, and the hidden/cell state `hidden`. '''\n",
    "                \n",
    "        ## TODO: Get the outputs and the new hidden state from the lstm\n",
    "        r_output, hidden = self.lstm(x, hidden)\n",
    "        \n",
    "        ## TODO: pass through a dropout layer\n",
    "        out = self.dropout(r_output)\n",
    "        \n",
    "        # Stack up LSTM outputs using view\n",
    "        # you may need to use contiguous to reshape the output\n",
    "        out = out.contiguous().view(-1, self.n_hidden)\n",
    "        \n",
    "        ## TODO: put x through the fully-connected layer\n",
    "        out = self.fc(out)\n",
    "        \n",
    "        # return the final output and the hidden state\n",
    "        return out, hidden\n",
    "    \n",
    "    \n",
    "    def init_hidden(self, batch_size):\n",
    "        ''' Initializes hidden state '''\n",
    "        # Create two new tensors with sizes n_layers x batch_size x n_hidden,\n",
    "        # initialized to zero, for hidden state and cell state of LSTM\n",
    "        weight = next(self.parameters()).data\n",
    "        \n",
    "        if (train_on_gpu):\n",
    "            hidden = (weight.new(self.n_layers, batch_size, self.n_hidden).zero_().cuda(),\n",
    "                  weight.new(self.n_layers, batch_size, self.n_hidden).zero_().cuda())\n",
    "        else:\n",
    "            hidden = (weight.new(self.n_layers, batch_size, self.n_hidden).zero_(),\n",
    "                      weight.new(self.n_layers, batch_size, self.n_hidden).zero_())\n",
    "        \n",
    "        return hidden\n",
    "        "
   ]
  },
  {
   "cell_type": "markdown",
   "metadata": {
    "colab_type": "text",
    "id": "swHUbtDP8OSV"
   },
   "source": [
    "## Time to train\n",
    "\n",
    "The train function gives us the ability to set the number of epochs, the learning rate, and other parameters.\n",
    "\n",
    "Below we're using an Adam optimizer and cross entropy loss since we are looking at character class scores as output. We calculate the loss and perform backpropagation, as usual!\n",
    "\n",
    "A couple of details about training: \n",
    ">* Within the batch loop, we detach the hidden state from its history; this time setting it equal to a new *tuple* variable because an LSTM has a hidden state that is a tuple of the hidden and cell states.\n",
    "* We use [`clip_grad_norm_`](https://pytorch.org/docs/stable/_modules/torch/nn/utils/clip_grad.html) to help prevent exploding gradients."
   ]
  },
  {
   "cell_type": "code",
   "execution_count": 0,
   "metadata": {
    "colab": {},
    "colab_type": "code",
    "id": "B-bwC4ct8OSY"
   },
   "outputs": [],
   "source": [
    "def train(net, data, epochs=10, batch_size=10, seq_length=50, lr=0.001, clip=5, val_frac=0.1, print_every=10):\n",
    "    ''' Training a network \n",
    "    \n",
    "        Arguments\n",
    "        ---------\n",
    "        \n",
    "        net: CharRNN network\n",
    "        data: text data to train the network\n",
    "        epochs: Number of epochs to train\n",
    "        batch_size: Number of mini-sequences per mini-batch, aka batch size\n",
    "        seq_length: Number of character steps per mini-batch\n",
    "        lr: learning rate\n",
    "        clip: gradient clipping\n",
    "        val_frac: Fraction of data to hold out for validation\n",
    "        print_every: Number of steps for printing training and validation loss\n",
    "    \n",
    "    '''\n",
    "    net.train()\n",
    "    \n",
    "    opt = torch.optim.Adam(net.parameters(), lr=lr)\n",
    "    criterion = nn.CrossEntropyLoss()\n",
    "    \n",
    "    # create training and validation data\n",
    "    val_idx = int(len(data)*(1-val_frac))\n",
    "    data, val_data = data[:val_idx], data[val_idx:]\n",
    "    \n",
    "    if(train_on_gpu):\n",
    "        net.cuda()\n",
    "    \n",
    "    counter = 0\n",
    "    n_chars = len(net.chars)\n",
    "    for e in range(epochs):\n",
    "        # initialize hidden state\n",
    "        h = net.init_hidden(batch_size)\n",
    "        \n",
    "        for x, y in get_batches(data, batch_size, seq_length):\n",
    "            counter += 1\n",
    "            \n",
    "            # One-hot encode our data and make them Torch tensors\n",
    "            x = one_hot_encode(x, len(net.chars))\n",
    "            inputs, targets = torch.from_numpy(x), torch.from_numpy(y)\n",
    "            \n",
    "            if(train_on_gpu):\n",
    "                inputs, targets = inputs.cuda(), targets.cuda()\n",
    "\n",
    "            # Creating new variables for the hidden state, otherwise\n",
    "            # we'd backprop through the entire training history\n",
    "            h = tuple([each.data for each in h])\n",
    "\n",
    "            # zero accumulated gradients\n",
    "            opt.zero_grad()\n",
    "            \n",
    "            # get the output from the model\n",
    "            output, h = net(inputs, h)\n",
    "            \n",
    "            # calculate the loss and perform backprop\n",
    "            loss = criterion(output, targets.view(batch_size*seq_length))\n",
    "            loss.backward()\n",
    "            # `clip_grad_norm` helps prevent the exploding gradient problem in RNNs / LSTMs.\n",
    "            nn.utils.clip_grad_norm_(net.parameters(), clip)\n",
    "            opt.step()\n",
    "            \n",
    "            # loss stats\n",
    "            if counter % print_every == 0:\n",
    "                # Get validation loss\n",
    "                val_h = net.init_hidden(batch_size)\n",
    "                val_losses = []\n",
    "                net.eval()\n",
    "                for x, y in get_batches(val_data, batch_size, seq_length):\n",
    "                    # One-hot encode our data and make them Torch tensors\n",
    "                    x = one_hot_encode(x, n_chars)\n",
    "                    x, y = torch.from_numpy(x), torch.from_numpy(y)\n",
    "                    \n",
    "                    # Creating new variables for the hidden state, otherwise\n",
    "                    # we'd backprop through the entire training history\n",
    "                    val_h = tuple([each.data for each in val_h])\n",
    "                    \n",
    "                    inputs, targets = x, y\n",
    "                    if(train_on_gpu):\n",
    "                        inputs, targets = inputs.cuda(), targets.cuda()\n",
    "\n",
    "                    output, val_h = net(inputs, val_h)\n",
    "                    val_loss = criterion(output, targets.view(batch_size*seq_length))\n",
    "                \n",
    "                    val_losses.append(val_loss.item())\n",
    "                \n",
    "                net.train() # reset to train mode after iterationg through validation data\n",
    "                \n",
    "                print(\"Epoch: {}/{}...\".format(e+1, epochs),\n",
    "                      \"Step: {}...\".format(counter),\n",
    "                      \"Loss: {:.4f}...\".format(loss.item()),\n",
    "                      \"Val Loss: {:.4f}\".format(np.mean(val_losses)))"
   ]
  },
  {
   "cell_type": "markdown",
   "metadata": {
    "colab_type": "text",
    "id": "WY8hufJM8OSi"
   },
   "source": [
    "## Instantiating the model\n",
    "\n",
    "Now we can actually train the network. First we'll create the network itself, with some given hyperparameters. Then, define the mini-batches sizes, and start training!"
   ]
  },
  {
   "cell_type": "code",
   "execution_count": 0,
   "metadata": {
    "colab": {
     "base_uri": "https://localhost:8080/",
     "height": 109
    },
    "colab_type": "code",
    "id": "NuYjuQ_C8OSk",
    "outputId": "178b595c-e91f-473f-d3da-3dc38e6cb6cd"
   },
   "outputs": [
    {
     "name": "stdout",
     "output_type": "stream",
     "text": [
      "CharRNN(\n",
      "  (lstm): LSTM(83, 512, num_layers=2, batch_first=True, dropout=0.5)\n",
      "  (dropout): Dropout(p=0.5)\n",
      "  (fc): Linear(in_features=512, out_features=83, bias=True)\n",
      ")\n"
     ]
    }
   ],
   "source": [
    "# define and print the net\n",
    "n_hidden=512\n",
    "n_layers=2\n",
    "\n",
    "net = CharRNN(chars, n_hidden, n_layers)\n",
    "print(net)"
   ]
  },
  {
   "cell_type": "code",
   "execution_count": 0,
   "metadata": {
    "colab": {
     "base_uri": "https://localhost:8080/",
     "height": 5123
    },
    "colab_type": "code",
    "id": "PnWo5-I-8OS1",
    "outputId": "65dee6dd-3c58-485a-a7e4-f67dc1eb4e5c",
    "scrolled": true
   },
   "outputs": [
    {
     "name": "stdout",
     "output_type": "stream",
     "text": [
      "Epoch: 1/20... Step: 10... Loss: 3.2353... Val Loss: 3.1821\n",
      "Epoch: 1/20... Step: 20... Loss: 3.1367... Val Loss: 3.1330\n",
      "Epoch: 1/20... Step: 30... Loss: 3.1346... Val Loss: 3.1219\n",
      "Epoch: 1/20... Step: 40... Loss: 3.1112... Val Loss: 3.1183\n",
      "Epoch: 1/20... Step: 50... Loss: 3.1407... Val Loss: 3.1150\n",
      "Epoch: 1/20... Step: 60... Loss: 3.1119... Val Loss: 3.1105\n",
      "Epoch: 1/20... Step: 70... Loss: 3.0958... Val Loss: 3.1009\n",
      "Epoch: 1/20... Step: 80... Loss: 3.1019... Val Loss: 3.0888\n",
      "Epoch: 1/20... Step: 90... Loss: 3.0657... Val Loss: 3.0406\n",
      "Epoch: 1/20... Step: 100... Loss: 2.9727... Val Loss: 2.9347\n",
      "Epoch: 1/20... Step: 110... Loss: 2.8550... Val Loss: 2.8762\n",
      "Epoch: 1/20... Step: 120... Loss: 2.7275... Val Loss: 2.7099\n",
      "Epoch: 1/20... Step: 130... Loss: 2.6447... Val Loss: 2.6000\n",
      "Epoch: 2/20... Step: 140... Loss: 2.5784... Val Loss: 2.5299\n",
      "Epoch: 2/20... Step: 150... Loss: 2.5400... Val Loss: 2.4840\n",
      "Epoch: 2/20... Step: 160... Loss: 2.4832... Val Loss: 2.4421\n",
      "Epoch: 2/20... Step: 170... Loss: 2.4247... Val Loss: 2.4048\n",
      "Epoch: 2/20... Step: 180... Loss: 2.3988... Val Loss: 2.3788\n",
      "Epoch: 2/20... Step: 190... Loss: 2.3490... Val Loss: 2.3494\n",
      "Epoch: 2/20... Step: 200... Loss: 2.3434... Val Loss: 2.3159\n",
      "Epoch: 2/20... Step: 210... Loss: 2.3088... Val Loss: 2.2924\n",
      "Epoch: 2/20... Step: 220... Loss: 2.2704... Val Loss: 2.2623\n",
      "Epoch: 2/20... Step: 230... Loss: 2.2669... Val Loss: 2.2332\n",
      "Epoch: 2/20... Step: 240... Loss: 2.2397... Val Loss: 2.2071\n",
      "Epoch: 2/20... Step: 250... Loss: 2.1768... Val Loss: 2.1812\n",
      "Epoch: 2/20... Step: 260... Loss: 2.1439... Val Loss: 2.1534\n",
      "Epoch: 2/20... Step: 270... Loss: 2.1566... Val Loss: 2.1359\n",
      "Epoch: 3/20... Step: 280... Loss: 2.1599... Val Loss: 2.1100\n",
      "Epoch: 3/20... Step: 290... Loss: 2.1192... Val Loss: 2.0845\n",
      "Epoch: 3/20... Step: 300... Loss: 2.0935... Val Loss: 2.0679\n",
      "Epoch: 3/20... Step: 310... Loss: 2.0727... Val Loss: 2.0536\n",
      "Epoch: 3/20... Step: 320... Loss: 2.0345... Val Loss: 2.0282\n",
      "Epoch: 3/20... Step: 330... Loss: 2.0103... Val Loss: 2.0118\n",
      "Epoch: 3/20... Step: 340... Loss: 2.0484... Val Loss: 1.9938\n",
      "Epoch: 3/20... Step: 350... Loss: 2.0156... Val Loss: 1.9810\n",
      "Epoch: 3/20... Step: 360... Loss: 1.9355... Val Loss: 1.9620\n",
      "Epoch: 3/20... Step: 370... Loss: 1.9764... Val Loss: 1.9410\n",
      "Epoch: 3/20... Step: 380... Loss: 1.9508... Val Loss: 1.9271\n",
      "Epoch: 3/20... Step: 390... Loss: 1.9268... Val Loss: 1.9130\n",
      "Epoch: 3/20... Step: 400... Loss: 1.8997... Val Loss: 1.8972\n",
      "Epoch: 3/20... Step: 410... Loss: 1.9151... Val Loss: 1.8863\n",
      "Epoch: 4/20... Step: 420... Loss: 1.8915... Val Loss: 1.8712\n",
      "Epoch: 4/20... Step: 430... Loss: 1.8888... Val Loss: 1.8499\n",
      "Epoch: 4/20... Step: 440... Loss: 1.8673... Val Loss: 1.8422\n",
      "Epoch: 4/20... Step: 450... Loss: 1.8132... Val Loss: 1.8269\n",
      "Epoch: 4/20... Step: 460... Loss: 1.7969... Val Loss: 1.8150\n",
      "Epoch: 4/20... Step: 470... Loss: 1.8400... Val Loss: 1.8045\n",
      "Epoch: 4/20... Step: 480... Loss: 1.8052... Val Loss: 1.7902\n",
      "Epoch: 4/20... Step: 490... Loss: 1.8102... Val Loss: 1.7805\n",
      "Epoch: 4/20... Step: 500... Loss: 1.8049... Val Loss: 1.7737\n",
      "Epoch: 4/20... Step: 510... Loss: 1.7893... Val Loss: 1.7602\n",
      "Epoch: 4/20... Step: 520... Loss: 1.7996... Val Loss: 1.7544\n",
      "Epoch: 4/20... Step: 530... Loss: 1.7639... Val Loss: 1.7405\n",
      "Epoch: 4/20... Step: 540... Loss: 1.7277... Val Loss: 1.7265\n",
      "Epoch: 4/20... Step: 550... Loss: 1.7798... Val Loss: 1.7225\n",
      "Epoch: 5/20... Step: 560... Loss: 1.7347... Val Loss: 1.7123\n",
      "Epoch: 5/20... Step: 570... Loss: 1.7187... Val Loss: 1.7017\n",
      "Epoch: 5/20... Step: 580... Loss: 1.6977... Val Loss: 1.6943\n",
      "Epoch: 5/20... Step: 590... Loss: 1.7046... Val Loss: 1.6827\n",
      "Epoch: 5/20... Step: 600... Loss: 1.6984... Val Loss: 1.6805\n",
      "Epoch: 5/20... Step: 610... Loss: 1.6676... Val Loss: 1.6702\n",
      "Epoch: 5/20... Step: 620... Loss: 1.6863... Val Loss: 1.6672\n",
      "Epoch: 5/20... Step: 630... Loss: 1.6954... Val Loss: 1.6560\n",
      "Epoch: 5/20... Step: 640... Loss: 1.6690... Val Loss: 1.6550\n",
      "Epoch: 5/20... Step: 650... Loss: 1.6614... Val Loss: 1.6449\n",
      "Epoch: 5/20... Step: 660... Loss: 1.6429... Val Loss: 1.6364\n",
      "Epoch: 5/20... Step: 670... Loss: 1.6572... Val Loss: 1.6328\n",
      "Epoch: 5/20... Step: 680... Loss: 1.6590... Val Loss: 1.6245\n",
      "Epoch: 5/20... Step: 690... Loss: 1.6342... Val Loss: 1.6181\n",
      "Epoch: 6/20... Step: 700... Loss: 1.6298... Val Loss: 1.6115\n",
      "Epoch: 6/20... Step: 710... Loss: 1.6221... Val Loss: 1.6081\n",
      "Epoch: 6/20... Step: 720... Loss: 1.6119... Val Loss: 1.5982\n",
      "Epoch: 6/20... Step: 730... Loss: 1.6181... Val Loss: 1.5917\n",
      "Epoch: 6/20... Step: 740... Loss: 1.5865... Val Loss: 1.5875\n",
      "Epoch: 6/20... Step: 750... Loss: 1.5643... Val Loss: 1.5824\n",
      "Epoch: 6/20... Step: 760... Loss: 1.6070... Val Loss: 1.5814\n",
      "Epoch: 6/20... Step: 770... Loss: 1.5896... Val Loss: 1.5802\n",
      "Epoch: 6/20... Step: 780... Loss: 1.5751... Val Loss: 1.5724\n",
      "Epoch: 6/20... Step: 790... Loss: 1.5644... Val Loss: 1.5673\n",
      "Epoch: 6/20... Step: 800... Loss: 1.5817... Val Loss: 1.5641\n",
      "Epoch: 6/20... Step: 810... Loss: 1.5657... Val Loss: 1.5603\n",
      "Epoch: 6/20... Step: 820... Loss: 1.5347... Val Loss: 1.5523\n",
      "Epoch: 6/20... Step: 830... Loss: 1.5865... Val Loss: 1.5495\n",
      "Epoch: 7/20... Step: 840... Loss: 1.5280... Val Loss: 1.5464\n",
      "Epoch: 7/20... Step: 850... Loss: 1.5500... Val Loss: 1.5386\n",
      "Epoch: 7/20... Step: 860... Loss: 1.5289... Val Loss: 1.5323\n",
      "Epoch: 7/20... Step: 870... Loss: 1.5427... Val Loss: 1.5293\n",
      "Epoch: 7/20... Step: 880... Loss: 1.5527... Val Loss: 1.5279\n",
      "Epoch: 7/20... Step: 890... Loss: 1.5366... Val Loss: 1.5225\n",
      "Epoch: 7/20... Step: 900... Loss: 1.5230... Val Loss: 1.5192\n",
      "Epoch: 7/20... Step: 910... Loss: 1.4933... Val Loss: 1.5179\n",
      "Epoch: 7/20... Step: 920... Loss: 1.5189... Val Loss: 1.5131\n",
      "Epoch: 7/20... Step: 930... Loss: 1.4992... Val Loss: 1.5110\n",
      "Epoch: 7/20... Step: 940... Loss: 1.5125... Val Loss: 1.5077\n",
      "Epoch: 7/20... Step: 950... Loss: 1.5156... Val Loss: 1.5019\n",
      "Epoch: 7/20... Step: 960... Loss: 1.5179... Val Loss: 1.4989\n",
      "Epoch: 7/20... Step: 970... Loss: 1.5286... Val Loss: 1.4958\n",
      "Epoch: 8/20... Step: 980... Loss: 1.4929... Val Loss: 1.4948\n",
      "Epoch: 8/20... Step: 990... Loss: 1.5002... Val Loss: 1.4884\n",
      "Epoch: 8/20... Step: 1000... Loss: 1.4845... Val Loss: 1.4846\n",
      "Epoch: 8/20... Step: 1010... Loss: 1.5195... Val Loss: 1.4816\n",
      "Epoch: 8/20... Step: 1020... Loss: 1.4973... Val Loss: 1.4807\n",
      "Epoch: 8/20... Step: 1030... Loss: 1.4729... Val Loss: 1.4755\n",
      "Epoch: 8/20... Step: 1040... Loss: 1.4861... Val Loss: 1.4772\n",
      "Epoch: 8/20... Step: 1050... Loss: 1.4656... Val Loss: 1.4700\n",
      "Epoch: 8/20... Step: 1060... Loss: 1.4582... Val Loss: 1.4706\n",
      "Epoch: 8/20... Step: 1070... Loss: 1.4766... Val Loss: 1.4670\n",
      "Epoch: 8/20... Step: 1080... Loss: 1.4808... Val Loss: 1.4645\n",
      "Epoch: 8/20... Step: 1090... Loss: 1.4500... Val Loss: 1.4567\n",
      "Epoch: 8/20... Step: 1100... Loss: 1.4399... Val Loss: 1.4574\n",
      "Epoch: 8/20... Step: 1110... Loss: 1.4523... Val Loss: 1.4588\n",
      "Epoch: 9/20... Step: 1120... Loss: 1.4596... Val Loss: 1.4558\n",
      "Epoch: 9/20... Step: 1130... Loss: 1.4668... Val Loss: 1.4495\n",
      "Epoch: 9/20... Step: 1140... Loss: 1.4640... Val Loss: 1.4438\n",
      "Epoch: 9/20... Step: 1150... Loss: 1.4808... Val Loss: 1.4445\n",
      "Epoch: 9/20... Step: 1160... Loss: 1.4346... Val Loss: 1.4443\n",
      "Epoch: 9/20... Step: 1170... Loss: 1.4345... Val Loss: 1.4405\n",
      "Epoch: 9/20... Step: 1180... Loss: 1.4376... Val Loss: 1.4425\n",
      "Epoch: 9/20... Step: 1190... Loss: 1.4606... Val Loss: 1.4355\n",
      "Epoch: 9/20... Step: 1200... Loss: 1.4159... Val Loss: 1.4357\n",
      "Epoch: 9/20... Step: 1210... Loss: 1.4269... Val Loss: 1.4316\n",
      "Epoch: 9/20... Step: 1220... Loss: 1.4308... Val Loss: 1.4349\n",
      "Epoch: 9/20... Step: 1230... Loss: 1.4124... Val Loss: 1.4260\n",
      "Epoch: 9/20... Step: 1240... Loss: 1.4129... Val Loss: 1.4279\n",
      "Epoch: 9/20... Step: 1250... Loss: 1.4161... Val Loss: 1.4266\n",
      "Epoch: 10/20... Step: 1260... Loss: 1.4341... Val Loss: 1.4218\n",
      "Epoch: 10/20... Step: 1270... Loss: 1.4258... Val Loss: 1.4207\n",
      "Epoch: 10/20... Step: 1280... Loss: 1.4343... Val Loss: 1.4151\n",
      "Epoch: 10/20... Step: 1290... Loss: 1.4218... Val Loss: 1.4151\n",
      "Epoch: 10/20... Step: 1300... Loss: 1.4109... Val Loss: 1.4136\n",
      "Epoch: 10/20... Step: 1310... Loss: 1.4164... Val Loss: 1.4087\n",
      "Epoch: 10/20... Step: 1320... Loss: 1.3903... Val Loss: 1.4088\n",
      "Epoch: 10/20... Step: 1330... Loss: 1.3913... Val Loss: 1.4076\n",
      "Epoch: 10/20... Step: 1340... Loss: 1.3723... Val Loss: 1.4058\n",
      "Epoch: 10/20... Step: 1350... Loss: 1.3689... Val Loss: 1.4019\n",
      "Epoch: 10/20... Step: 1360... Loss: 1.3778... Val Loss: 1.4047\n",
      "Epoch: 10/20... Step: 1370... Loss: 1.3696... Val Loss: 1.4030\n",
      "Epoch: 10/20... Step: 1380... Loss: 1.4126... Val Loss: 1.4008\n",
      "Epoch: 10/20... Step: 1390... Loss: 1.4172... Val Loss: 1.3983\n",
      "Epoch: 11/20... Step: 1400... Loss: 1.4148... Val Loss: 1.3971\n",
      "Epoch: 11/20... Step: 1410... Loss: 1.4241... Val Loss: 1.3964\n",
      "Epoch: 11/20... Step: 1420... Loss: 1.4119... Val Loss: 1.3890\n",
      "Epoch: 11/20... Step: 1430... Loss: 1.3838... Val Loss: 1.3915\n",
      "Epoch: 11/20... Step: 1440... Loss: 1.3953... Val Loss: 1.3912\n",
      "Epoch: 11/20... Step: 1450... Loss: 1.3387... Val Loss: 1.3897\n",
      "Epoch: 11/20... Step: 1460... Loss: 1.3651... Val Loss: 1.3867\n",
      "Epoch: 11/20... Step: 1470... Loss: 1.3591... Val Loss: 1.3839\n",
      "Epoch: 11/20... Step: 1480... Loss: 1.3792... Val Loss: 1.3830\n",
      "Epoch: 11/20... Step: 1490... Loss: 1.3641... Val Loss: 1.3798\n",
      "Epoch: 11/20... Step: 1500... Loss: 1.3636... Val Loss: 1.3843\n",
      "Epoch: 11/20... Step: 1510... Loss: 1.3329... Val Loss: 1.3816\n",
      "Epoch: 11/20... Step: 1520... Loss: 1.3729... Val Loss: 1.3783\n",
      "Epoch: 12/20... Step: 1530... Loss: 1.4211... Val Loss: 1.3789\n",
      "Epoch: 12/20... Step: 1540... Loss: 1.3693... Val Loss: 1.3716\n",
      "Epoch: 12/20... Step: 1550... Loss: 1.3864... Val Loss: 1.3769\n",
      "Epoch: 12/20... Step: 1560... Loss: 1.3877... Val Loss: 1.3704\n",
      "Epoch: 12/20... Step: 1570... Loss: 1.3453... Val Loss: 1.3707\n",
      "Epoch: 12/20... Step: 1580... Loss: 1.3266... Val Loss: 1.3711\n",
      "Epoch: 12/20... Step: 1590... Loss: 1.3118... Val Loss: 1.3691\n",
      "Epoch: 12/20... Step: 1600... Loss: 1.3463... Val Loss: 1.3690\n",
      "Epoch: 12/20... Step: 1610... Loss: 1.3308... Val Loss: 1.3622\n",
      "Epoch: 12/20... Step: 1620... Loss: 1.3355... Val Loss: 1.3629\n",
      "Epoch: 12/20... Step: 1630... Loss: 1.3549... Val Loss: 1.3611\n",
      "Epoch: 12/20... Step: 1640... Loss: 1.3394... Val Loss: 1.3629\n",
      "Epoch: 12/20... Step: 1650... Loss: 1.3116... Val Loss: 1.3640\n",
      "Epoch: 12/20... Step: 1660... Loss: 1.3612... Val Loss: 1.3601\n",
      "Epoch: 13/20... Step: 1670... Loss: 1.3350... Val Loss: 1.3581\n",
      "Epoch: 13/20... Step: 1680... Loss: 1.3424... Val Loss: 1.3529\n",
      "Epoch: 13/20... Step: 1690... Loss: 1.3264... Val Loss: 1.3543\n",
      "Epoch: 13/20... Step: 1700... Loss: 1.3263... Val Loss: 1.3508\n",
      "Epoch: 13/20... Step: 1710... Loss: 1.3062... Val Loss: 1.3527\n",
      "Epoch: 13/20... Step: 1720... Loss: 1.3110... Val Loss: 1.3513\n",
      "Epoch: 13/20... Step: 1730... Loss: 1.3536... Val Loss: 1.3487\n",
      "Epoch: 13/20... Step: 1740... Loss: 1.3146... Val Loss: 1.3501\n",
      "Epoch: 13/20... Step: 1750... Loss: 1.2909... Val Loss: 1.3466\n",
      "Epoch: 13/20... Step: 1760... Loss: 1.3211... Val Loss: 1.3489\n",
      "Epoch: 13/20... Step: 1770... Loss: 1.3373... Val Loss: 1.3437\n",
      "Epoch: 13/20... Step: 1780... Loss: 1.3041... Val Loss: 1.3433\n",
      "Epoch: 13/20... Step: 1790... Loss: 1.3022... Val Loss: 1.3399\n",
      "Epoch: 13/20... Step: 1800... Loss: 1.3121... Val Loss: 1.3389\n",
      "Epoch: 14/20... Step: 1810... Loss: 1.3223... Val Loss: 1.3392\n",
      "Epoch: 14/20... Step: 1820... Loss: 1.3106... Val Loss: 1.3324\n",
      "Epoch: 14/20... Step: 1830... Loss: 1.3330... Val Loss: 1.3339\n",
      "Epoch: 14/20... Step: 1840... Loss: 1.2668... Val Loss: 1.3318\n",
      "Epoch: 14/20... Step: 1850... Loss: 1.2563... Val Loss: 1.3324\n",
      "Epoch: 14/20... Step: 1860... Loss: 1.3133... Val Loss: 1.3302\n",
      "Epoch: 14/20... Step: 1870... Loss: 1.3175... Val Loss: 1.3289\n",
      "Epoch: 14/20... Step: 1880... Loss: 1.3067... Val Loss: 1.3283\n",
      "Epoch: 14/20... Step: 1890... Loss: 1.3269... Val Loss: 1.3315\n",
      "Epoch: 14/20... Step: 1900... Loss: 1.3048... Val Loss: 1.3281\n",
      "Epoch: 14/20... Step: 1910... Loss: 1.3078... Val Loss: 1.3251\n",
      "Epoch: 14/20... Step: 1920... Loss: 1.2987... Val Loss: 1.3265\n",
      "Epoch: 14/20... Step: 1930... Loss: 1.2621... Val Loss: 1.3247\n",
      "Epoch: 14/20... Step: 1940... Loss: 1.3160... Val Loss: 1.3274\n",
      "Epoch: 15/20... Step: 1950... Loss: 1.2898... Val Loss: 1.3210\n",
      "Epoch: 15/20... Step: 1960... Loss: 1.2911... Val Loss: 1.3191\n",
      "Epoch: 15/20... Step: 1970... Loss: 1.2894... Val Loss: 1.3199\n",
      "Epoch: 15/20... Step: 1980... Loss: 1.2806... Val Loss: 1.3180\n",
      "Epoch: 15/20... Step: 1990... Loss: 1.2684... Val Loss: 1.3156\n",
      "Epoch: 15/20... Step: 2000... Loss: 1.2544... Val Loss: 1.3174\n",
      "Epoch: 15/20... Step: 2010... Loss: 1.2784... Val Loss: 1.3112\n",
      "Epoch: 15/20... Step: 2020... Loss: 1.3005... Val Loss: 1.3160\n",
      "Epoch: 15/20... Step: 2030... Loss: 1.2707... Val Loss: 1.3118\n",
      "Epoch: 15/20... Step: 2040... Loss: 1.2817... Val Loss: 1.3131\n",
      "Epoch: 15/20... Step: 2050... Loss: 1.2687... Val Loss: 1.3107\n",
      "Epoch: 15/20... Step: 2060... Loss: 1.2834... Val Loss: 1.3093\n",
      "Epoch: 15/20... Step: 2070... Loss: 1.2744... Val Loss: 1.3112\n",
      "Epoch: 15/20... Step: 2080... Loss: 1.2757... Val Loss: 1.3095\n",
      "Epoch: 16/20... Step: 2090... Loss: 1.2874... Val Loss: 1.3070\n",
      "Epoch: 16/20... Step: 2100... Loss: 1.2650... Val Loss: 1.3058\n",
      "Epoch: 16/20... Step: 2110... Loss: 1.2639... Val Loss: 1.3095\n",
      "Epoch: 16/20... Step: 2120... Loss: 1.2759... Val Loss: 1.3084\n",
      "Epoch: 16/20... Step: 2130... Loss: 1.2471... Val Loss: 1.3053\n",
      "Epoch: 16/20... Step: 2140... Loss: 1.2526... Val Loss: 1.3089\n",
      "Epoch: 16/20... Step: 2150... Loss: 1.2800... Val Loss: 1.3039\n",
      "Epoch: 16/20... Step: 2160... Loss: 1.2545... Val Loss: 1.3044\n",
      "Epoch: 16/20... Step: 2170... Loss: 1.2565... Val Loss: 1.3017\n",
      "Epoch: 16/20... Step: 2180... Loss: 1.2482... Val Loss: 1.3083\n",
      "Epoch: 16/20... Step: 2190... Loss: 1.2717... Val Loss: 1.3041\n",
      "Epoch: 16/20... Step: 2200... Loss: 1.2540... Val Loss: 1.3080\n",
      "Epoch: 16/20... Step: 2210... Loss: 1.2241... Val Loss: 1.3006\n",
      "Epoch: 16/20... Step: 2220... Loss: 1.2683... Val Loss: 1.3036\n",
      "Epoch: 17/20... Step: 2230... Loss: 1.2340... Val Loss: 1.3018\n",
      "Epoch: 17/20... Step: 2240... Loss: 1.2360... Val Loss: 1.2979\n",
      "Epoch: 17/20... Step: 2250... Loss: 1.2272... Val Loss: 1.3017\n",
      "Epoch: 17/20... Step: 2260... Loss: 1.2542... Val Loss: 1.3018\n",
      "Epoch: 17/20... Step: 2270... Loss: 1.2514... Val Loss: 1.2995\n",
      "Epoch: 17/20... Step: 2280... Loss: 1.2633... Val Loss: 1.2950\n",
      "Epoch: 17/20... Step: 2290... Loss: 1.2606... Val Loss: 1.2953\n",
      "Epoch: 17/20... Step: 2300... Loss: 1.2296... Val Loss: 1.2911\n",
      "Epoch: 17/20... Step: 2310... Loss: 1.2466... Val Loss: 1.2909\n",
      "Epoch: 17/20... Step: 2320... Loss: 1.2324... Val Loss: 1.2945\n",
      "Epoch: 17/20... Step: 2330... Loss: 1.2310... Val Loss: 1.2935\n",
      "Epoch: 17/20... Step: 2340... Loss: 1.2567... Val Loss: 1.2916\n",
      "Epoch: 17/20... Step: 2350... Loss: 1.2547... Val Loss: 1.2888\n",
      "Epoch: 17/20... Step: 2360... Loss: 1.2538... Val Loss: 1.2918\n",
      "Epoch: 18/20... Step: 2370... Loss: 1.2293... Val Loss: 1.2880\n",
      "Epoch: 18/20... Step: 2380... Loss: 1.2335... Val Loss: 1.2853\n",
      "Epoch: 18/20... Step: 2390... Loss: 1.2331... Val Loss: 1.2901\n",
      "Epoch: 18/20... Step: 2400... Loss: 1.2595... Val Loss: 1.2884\n",
      "Epoch: 18/20... Step: 2410... Loss: 1.2531... Val Loss: 1.2849\n",
      "Epoch: 18/20... Step: 2420... Loss: 1.2402... Val Loss: 1.2871\n",
      "Epoch: 18/20... Step: 2430... Loss: 1.2427... Val Loss: 1.2897\n",
      "Epoch: 18/20... Step: 2440... Loss: 1.2258... Val Loss: 1.2830\n",
      "Epoch: 18/20... Step: 2450... Loss: 1.2173... Val Loss: 1.2815\n",
      "Epoch: 18/20... Step: 2460... Loss: 1.2433... Val Loss: 1.2921\n",
      "Epoch: 18/20... Step: 2470... Loss: 1.2364... Val Loss: 1.2833\n",
      "Epoch: 18/20... Step: 2480... Loss: 1.2208... Val Loss: 1.2811\n",
      "Epoch: 18/20... Step: 2490... Loss: 1.2096... Val Loss: 1.2830\n",
      "Epoch: 18/20... Step: 2500... Loss: 1.2221... Val Loss: 1.2801\n",
      "Epoch: 19/20... Step: 2510... Loss: 1.2146... Val Loss: 1.2808\n",
      "Epoch: 19/20... Step: 2520... Loss: 1.2393... Val Loss: 1.2800\n",
      "Epoch: 19/20... Step: 2530... Loss: 1.2456... Val Loss: 1.2821\n",
      "Epoch: 19/20... Step: 2540... Loss: 1.2537... Val Loss: 1.2812\n",
      "Epoch: 19/20... Step: 2550... Loss: 1.2109... Val Loss: 1.2826\n",
      "Epoch: 19/20... Step: 2560... Loss: 1.2311... Val Loss: 1.2788\n",
      "Epoch: 19/20... Step: 2570... Loss: 1.2225... Val Loss: 1.2794\n",
      "Epoch: 19/20... Step: 2580... Loss: 1.2506... Val Loss: 1.2775\n",
      "Epoch: 19/20... Step: 2590... Loss: 1.2153... Val Loss: 1.2773\n",
      "Epoch: 19/20... Step: 2600... Loss: 1.2080... Val Loss: 1.2793\n",
      "Epoch: 19/20... Step: 2610... Loss: 1.2154... Val Loss: 1.2819\n",
      "Epoch: 19/20... Step: 2620... Loss: 1.2043... Val Loss: 1.2812\n",
      "Epoch: 19/20... Step: 2630... Loss: 1.2144... Val Loss: 1.2770\n",
      "Epoch: 19/20... Step: 2640... Loss: 1.2324... Val Loss: 1.2782\n",
      "Epoch: 20/20... Step: 2650... Loss: 1.2252... Val Loss: 1.2768\n",
      "Epoch: 20/20... Step: 2660... Loss: 1.2216... Val Loss: 1.2778\n",
      "Epoch: 20/20... Step: 2670... Loss: 1.2325... Val Loss: 1.2719\n",
      "Epoch: 20/20... Step: 2680... Loss: 1.2253... Val Loss: 1.2718\n",
      "Epoch: 20/20... Step: 2690... Loss: 1.2180... Val Loss: 1.2792\n",
      "Epoch: 20/20... Step: 2700... Loss: 1.2273... Val Loss: 1.2819\n",
      "Epoch: 20/20... Step: 2710... Loss: 1.2012... Val Loss: 1.2762\n",
      "Epoch: 20/20... Step: 2720... Loss: 1.1944... Val Loss: 1.2708\n",
      "Epoch: 20/20... Step: 2730... Loss: 1.1936... Val Loss: 1.2764\n",
      "Epoch: 20/20... Step: 2740... Loss: 1.1820... Val Loss: 1.2722\n",
      "Epoch: 20/20... Step: 2750... Loss: 1.1945... Val Loss: 1.2727\n",
      "Epoch: 20/20... Step: 2760... Loss: 1.1927... Val Loss: 1.2732\n",
      "Epoch: 20/20... Step: 2770... Loss: 1.2350... Val Loss: 1.2697\n",
      "Epoch: 20/20... Step: 2780... Loss: 1.2595... Val Loss: 1.2755\n"
     ]
    }
   ],
   "source": [
    "batch_size = 128\n",
    "seq_length = 100\n",
    "n_epochs = 20 # start smaller if you are just testing initial behavior\n",
    "\n",
    "# train the model\n",
    "train(net, encoded, epochs=n_epochs, batch_size=batch_size, seq_length=seq_length, lr=0.001, print_every=10)"
   ]
  },
  {
   "cell_type": "markdown",
   "metadata": {
    "colab_type": "text",
    "id": "skgqCBe-8OTG"
   },
   "source": [
    "## Hyperparameters\n",
    "\n",
    "Here are the hyperparameters for the network.\n",
    "\n",
    "In defining the model:\n",
    "* `n_hidden` - The number of units in the hidden layers.\n",
    "* `n_layers` - Number of hidden LSTM layers to use.\n",
    "\n",
    "We assume that dropout probability and learning rate will be kept at the default, in this example.\n",
    "\n",
    "And in training:\n",
    "* `batch_size` - Number of sequences running through the network in one pass.\n",
    "* `seq_length` - Number of characters in the sequence the network is trained on. Larger is better typically, the network will learn more long range dependencies. But it takes longer to train. 100 is typically a good number here.\n",
    "* `lr` - Learning rate for training\n",
    "\n",
    "Here's some good advice from Andrej Karpathy on training the network. I'm going to copy it in here for your benefit, but also link to [where it originally came from](https://github.com/karpathy/char-rnn#tips-and-tricks).\n",
    "\n",
    "> ## Tips and Tricks\n",
    "\n",
    ">### Monitoring Validation Loss vs. Training Loss\n",
    ">If you're somewhat new to Machine Learning or Neural Networks it can take a bit of expertise to get good models. The most important quantity to keep track of is the difference between your training loss (printed during training) and the validation loss (printed once in a while when the RNN is run on the validation data (by default every 1000 iterations)). In particular:\n",
    "\n",
    "> - If your training loss is much lower than validation loss then this means the network might be **overfitting**. Solutions to this are to decrease your network size, or to increase dropout. For example you could try dropout of 0.5 and so on.\n",
    "> - If your training/validation loss are about equal then your model is **underfitting**. Increase the size of your model (either number of layers or the raw number of neurons per layer)\n",
    "\n",
    "> ### Approximate number of parameters\n",
    "\n",
    "> The two most important parameters that control the model are `n_hidden` and `n_layers`. I would advise that you always use `n_layers` of either 2/3. The `n_hidden` can be adjusted based on how much data you have. The two important quantities to keep track of here are:\n",
    "\n",
    "> - The number of parameters in your model. This is printed when you start training.\n",
    "> - The size of your dataset. 1MB file is approximately 1 million characters.\n",
    "\n",
    ">These two should be about the same order of magnitude. It's a little tricky to tell. Here are some examples:\n",
    "\n",
    "> - I have a 100MB dataset and I'm using the default parameter settings (which currently print 150K parameters). My data size is significantly larger (100 mil >> 0.15 mil), so I expect to heavily underfit. I am thinking I can comfortably afford to make `n_hidden` larger.\n",
    "> - I have a 10MB dataset and running a 10 million parameter model. I'm slightly nervous and I'm carefully monitoring my validation loss. If it's larger than my training loss then I may want to try to increase dropout a bit and see if that helps the validation loss.\n",
    "\n",
    "> ### Best models strategy\n",
    "\n",
    ">The winning strategy to obtaining very good models (if you have the compute time) is to always err on making the network larger (as large as you're willing to wait for it to compute) and then try different dropout values (between 0,1). Whatever model has the best validation performance (the loss, written in the checkpoint filename, low is good) is the one you should use in the end.\n",
    "\n",
    ">It is very common in deep learning to run many different models with many different hyperparameter settings, and in the end take whatever checkpoint gave the best validation performance.\n",
    "\n",
    ">By the way, the size of your training and validation splits are also parameters. Make sure you have a decent amount of data in your validation set or otherwise the validation performance will be noisy and not very informative."
   ]
  },
  {
   "cell_type": "markdown",
   "metadata": {
    "colab_type": "text",
    "id": "Wh7cJ-wH8OTK"
   },
   "source": [
    "## Checkpoint\n",
    "\n",
    "After training, we'll save the model so we can load it again later if we need too. Here I'm saving the parameters needed to create the same architecture, the hidden layer hyperparameters and the text characters."
   ]
  },
  {
   "cell_type": "code",
   "execution_count": 0,
   "metadata": {
    "colab": {},
    "colab_type": "code",
    "id": "2yt-BK0O8OTL"
   },
   "outputs": [],
   "source": [
    "# change the name, for saving multiple files\n",
    "model_name = 'rnn_20_epoch.net'\n",
    "\n",
    "checkpoint = {'n_hidden': net.n_hidden,\n",
    "              'n_layers': net.n_layers,\n",
    "              'state_dict': net.state_dict(),\n",
    "              'tokens': net.chars}\n",
    "\n",
    "with open(model_name, 'wb') as f:\n",
    "    torch.save(checkpoint, f)"
   ]
  },
  {
   "cell_type": "markdown",
   "metadata": {
    "colab_type": "text",
    "id": "gGEvmRgl8OTO"
   },
   "source": [
    "---\n",
    "## Making Predictions\n",
    "\n",
    "Now that the model is trained, we'll want to sample from it and make predictions about next characters! To sample, we pass in a character and have the network predict the next character. Then we take that character, pass it back in, and get another predicted character. Just keep doing this and you'll generate a bunch of text!\n",
    "\n",
    "### A note on the `predict`  function\n",
    "\n",
    "The output of our RNN is from a fully-connected layer and it outputs a **distribution of next-character scores**.\n",
    "\n",
    "> To actually get the next character, we apply a softmax function, which gives us a *probability* distribution that we can then sample to predict the next character.\n",
    "\n",
    "### Top K sampling\n",
    "\n",
    "Our predictions come from a categorical probability distribution over all the possible characters. We can make the sample text and make it more reasonable to handle (with less variables) by only considering some $K$ most probable characters. This will prevent the network from giving us completely absurd characters while allowing it to introduce some noise and randomness into the sampled text. Read more about [topk, here](https://pytorch.org/docs/stable/torch.html#torch.topk).\n"
   ]
  },
  {
   "cell_type": "code",
   "execution_count": 0,
   "metadata": {
    "colab": {},
    "colab_type": "code",
    "id": "fhbdcK2U8OTQ"
   },
   "outputs": [],
   "source": [
    "def predict(net, char, h=None, top_k=None):\n",
    "        ''' Given a character, predict the next character.\n",
    "            Returns the predicted character and the hidden state.\n",
    "        '''\n",
    "        \n",
    "        # tensor inputs\n",
    "        x = np.array([[net.char2int[char]]])\n",
    "        x = one_hot_encode(x, len(net.chars))\n",
    "        inputs = torch.from_numpy(x)\n",
    "        \n",
    "        if(train_on_gpu):\n",
    "            inputs = inputs.cuda()\n",
    "        \n",
    "        # detach hidden state from history\n",
    "        h = tuple([each.data for each in h])\n",
    "        # get the output of the model\n",
    "        out, h = net(inputs, h)\n",
    "\n",
    "        # get the character probabilities\n",
    "        p = F.softmax(out, dim=1).data\n",
    "        if(train_on_gpu):\n",
    "            p = p.cpu() # move to cpu\n",
    "        \n",
    "        # get top characters\n",
    "        if top_k is None:\n",
    "            top_ch = np.arange(len(net.chars))\n",
    "        else:\n",
    "            p, top_ch = p.topk(top_k)\n",
    "            top_ch = top_ch.numpy().squeeze()\n",
    "        \n",
    "        # select the likely next character with some element of randomness\n",
    "        p = p.numpy().squeeze()\n",
    "        char = np.random.choice(top_ch, p=p/p.sum())\n",
    "        \n",
    "        # return the encoded value of the predicted char and the hidden state\n",
    "        return net.int2char[char], h"
   ]
  },
  {
   "cell_type": "markdown",
   "metadata": {
    "colab_type": "text",
    "id": "A0j9eBsR8OTe"
   },
   "source": [
    "### Priming and generating text \n",
    "\n",
    "Typically you'll want to prime the network so you can build up a hidden state. Otherwise the network will start out generating characters at random. In general the first bunch of characters will be a little rough since it hasn't built up a long history of characters to predict from."
   ]
  },
  {
   "cell_type": "code",
   "execution_count": 0,
   "metadata": {
    "colab": {},
    "colab_type": "code",
    "id": "X2Z-kTsA8OTf"
   },
   "outputs": [],
   "source": [
    "def sample(net, size, prime='The', top_k=None):\n",
    "        \n",
    "    if(train_on_gpu):\n",
    "        net.cuda()\n",
    "    else:\n",
    "        net.cpu()\n",
    "    \n",
    "    net.eval() # eval mode\n",
    "    \n",
    "    # First off, run through the prime characters\n",
    "    chars = [ch for ch in prime]\n",
    "    h = net.init_hidden(1)\n",
    "    for ch in prime:\n",
    "        char, h = predict(net, ch, h, top_k=top_k)\n",
    "\n",
    "    chars.append(char)\n",
    "    \n",
    "    # Now pass in the previous character and get a new one\n",
    "    for ii in range(size):\n",
    "        char, h = predict(net, chars[-1], h, top_k=top_k)\n",
    "        chars.append(char)\n",
    "\n",
    "    return ''.join(chars)"
   ]
  },
  {
   "cell_type": "code",
   "execution_count": 0,
   "metadata": {
    "colab": {
     "base_uri": "https://localhost:8080/",
     "height": 495
    },
    "colab_type": "code",
    "id": "GJfOt-w98OTj",
    "outputId": "e1bcdf6d-d390-4599-aab4-d5e1be950eef"
   },
   "outputs": [
    {
     "name": "stdout",
     "output_type": "stream",
     "text": [
      "Anna's head\n",
      "with sight of sere-almest times sitting into their positions to\n",
      "spining his, and he had so good as had been song. But the peasant\n",
      "stopped all at the prince, and saw that it would not say talking. The feet in\n",
      "spite of his short hand.\"\n",
      "\n",
      "\"I stoppy to her, because I won't get to those in the familiar,\n",
      "we'll be a much. It's too, but he was said, that it all so than\n",
      "your., he would be intimusted. At the man, and I had noticed it.\"\n",
      "\n",
      "\"Yes.\"\n",
      "\n",
      "\"Oh, I'm not told you, I cannot be so good-humored.\"\n",
      "\n",
      "\"You cannot consider me, that's not in the peasantry and he has\n",
      "been at his mind. How directly it all the corner of the more thought\n",
      "of a crick, and the meanings of taking the son, when I are some of them.\"\n",
      "\n",
      "\"What are you always depersting the carester?\"\n",
      "\n",
      "\"You didn't know the simpless.\"\n",
      "\n",
      "And the conscious of his honesty, some soundes of such a positive single\n",
      "day that he had to be seen. And so that the start and some\n",
      "shirt of a first-notion was sitting away the people there had no\n",
      "more so and say\n"
     ]
    }
   ],
   "source": [
    "print(sample(net, 1000, prime='Anna', top_k=5))"
   ]
  },
  {
   "cell_type": "markdown",
   "metadata": {
    "colab_type": "text",
    "id": "MQvYoQOv8OTm"
   },
   "source": [
    "## Loading a checkpoint"
   ]
  },
  {
   "cell_type": "code",
   "execution_count": 0,
   "metadata": {
    "colab": {},
    "colab_type": "code",
    "id": "LBgK2_RH8OTr"
   },
   "outputs": [],
   "source": [
    "# Here we have loaded in a model that trained over 20 epochs `rnn_20_epoch.net`\n",
    "with open('rnn_20_epoch.net', 'rb') as f:\n",
    "    checkpoint = torch.load(f)\n",
    "    \n",
    "loaded = CharRNN(checkpoint['tokens'], n_hidden=checkpoint['n_hidden'], n_layers=checkpoint['n_layers'])\n",
    "loaded.load_state_dict(checkpoint['state_dict'])"
   ]
  },
  {
   "cell_type": "code",
   "execution_count": 0,
   "metadata": {
    "colab": {
     "base_uri": "https://localhost:8080/",
     "height": 844
    },
    "colab_type": "code",
    "id": "wMK8dnCT8OT6",
    "outputId": "78468009-9191-4c62-c90c-8e02a9224385"
   },
   "outputs": [
    {
     "name": "stdout",
     "output_type": "stream",
     "text": [
      "And Levin said:\n",
      "\"How am I don't know, and I am silent,\" thought Vronsky at\n",
      "the story of the stances.\n",
      "\n",
      "Anna had been talking to she had to drink, and with this master\n",
      "of hands, and that he had servented the same strength of the\n",
      "clerk to him, and as he was straight to him to stand it was the thought and seeming\n",
      "in the fact to believe the carrious of his brother's said in his\n",
      "hands, and stopping his face, and he heard an all and thought\n",
      "in his best herself on his father, took her stay and taken\n",
      "to his wife and her eyes, because all she went in.\n",
      "\n",
      "\"Oh, then't the carriage! Thilk's a latter?\" And she filled\n",
      "his heart, and wett into her hand with his father saw how so he saw\n",
      "it a little.\n",
      "\n",
      "\n",
      "\n",
      "Chapter 22\n",
      "\n",
      "\n",
      "\"No;\n",
      "I'll get up for you, but I have always break, and I want how that I wanted to be\n",
      "sure to be did as though he wants to me in the first instant with\n",
      "the missroom!\" she went on with tone of her foresers, and\n",
      "at talk with his hand of the first, to the princess she heard some\n",
      "sincere. All the mother asked his shooting. She was a sudden, and the\n",
      "same stiff as a stear of homility of the portraits had story of\n",
      "it; but it was so fach he had asked him, and had not come in, that he\n",
      "was at the master, and all that this would not see her feally barless\n",
      "and same as he was to say in his words.\n",
      "\n",
      "\"Won't you met as yet then, and I'm not try to blame?\" he\n",
      "talking a man and at the same as a sudden shouting, and he formed\n",
      "the composed of a fortune of a creatures was to be anywald and\n",
      "such as if he wills, to see him to speak of the particularly performance of\n",
      "sheet.\n",
      "\n",
      "Stepan Arkadyevitch said the same cape of with a since a smile that\n",
      "she would his head on him, she had not the met of his servants. But\n",
      "what he was impossing to him, but would not say that her head some of\n",
      "them of his happiness had been terrible and still to the momands\n",
      "of the story of her wife, the same cold, he had no string the\n",
      "principle and a position of the minutes, but what's what it was\n",
      "brought him. But that she was so mick now to be f\n"
     ]
    }
   ],
   "source": [
    "# Sample using a loaded model\n",
    "print(sample(loaded, 2000, top_k=5, prime=\"And Levin said\"))"
   ]
  },
  {
   "cell_type": "code",
   "execution_count": 0,
   "metadata": {
    "colab": {},
    "colab_type": "code",
    "id": "aDvrLhAYCGMm"
   },
   "outputs": [],
   "source": []
  }
 ],
 "metadata": {
  "accelerator": "GPU",
  "colab": {
   "name": "Character_Level_RNN_Solution.ipynb",
   "provenance": [],
   "toc_visible": true,
   "version": "0.3.2"
  },
  "kernelspec": {
   "display_name": "Python 3",
   "language": "python",
   "name": "python3"
  },
  "language_info": {
   "codemirror_mode": {
    "name": "ipython",
    "version": 3
   },
   "file_extension": ".py",
   "mimetype": "text/x-python",
   "name": "python",
   "nbconvert_exporter": "python",
   "pygments_lexer": "ipython3",
   "version": "3.6.2"
  },
  "widgets": {
   "application/vnd.jupyter.widget-state+json": {
    "state": {},
    "version_major": 2,
    "version_minor": 0
   }
  }
 },
 "nbformat": 4,
 "nbformat_minor": 1
}
